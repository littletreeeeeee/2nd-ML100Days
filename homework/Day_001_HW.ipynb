{
 "cells": [
  {
   "cell_type": "markdown",
   "metadata": {},
   "source": [
    "# 作業 1\n",
    "### <font color=\"blue\">請上 Kaggle, 在 Competitions 或 Dataset 中找一組競賽或資料並寫下：</font>\n",
    " 所選資料: [Suicide Rates Overview 1985 to 2016](https://www.kaggle.com/russellyates88/suicide-rates-overview-1985-to-2016)\n",
    " #### 1. 你選的這組資料為何重要\n",
    "   <p>Ans : 透過了解自殺者的年齡、收入、所在地區,可進一步分析可能自殺的原因及族群，並著手降低自殺率或發現社會問題</p>\n",
    "   \n",
    " #### 2. 資料從何而來 (tips: 譬如提供者是誰、以什麼方式蒐集)\n",
    "   <p> Ans : 世界衛生組織、世界銀行、聯合國開發計劃署 </p>\n",
    "   \n",
    " #### 3. 蒐集而來的資料型態為何\n",
    "   <p> Ans : csv</p>\n",
    "   \n",
    " #### 4. 這組資料想解決的問題如何評估\n",
    "   <p> Ans : 觀察地區、年齡、收入之間是否有相關性 , 例如不同地區同一年齡自殺比率是否相同？ 並交叉分析各組比對資料</p>\n",
    "   \n",
    "\n",
    "# 作業 2 \n",
    "### <font color=\"blue\"> 想像你經營一個自由載客車隊，你希望能透過數據分析以提升業績，請你思考並描述你如何規劃整體的分析/解決方案：</font>\n",
    "\n",
    "#### 1. 核心問題為何 (tips：如何定義 「提升業績 & 你的假設」\n",
    "   <p> Ans : 提高載客率、增加熟客、車程連續減少空車時間</p>\n",
    "   \n",
    "#### 2. 資料從何而來 (tips：哪些資料可能會對你想問的問題產生影響 & 資料如何蒐集)\n",
    "   * 平常紀錄自己的路線, 了解哪些路線較多乘客搭乘\n",
    "   * 使用google map 觀察車流狀況及周邊景點路線。\n",
    "   * 蒐集顧客回饋\n",
    "   \n",
    "#### 3. 蒐集而來的資料型態為何\n",
    "   * 文字,kml\n",
    "   \n",
    "#### 4. 你要回答的問題，其如何評估 (tips：你的假設如何驗證)\n",
    "   * 觀察尖峰、離峰時段,離峰時段推出優惠活動\n",
    "   * 增加路線的連貫性,以減少空車率（觀察Ａ景點到Ｂ景點後Ｂ景點是否會有乘客要到其他景點）\n",
    "   * 傾聽顧客回饋、搜集建議後，增加熟客預約搭乘的機會，並記錄客戶搭乘路線及時間，可分析出在各個時段適合在哪些地區載客\n",
    "   "
   ]
  },
  {
   "cell_type": "markdown",
   "metadata": {},
   "source": [
    "## 練習時間\n",
    "#### 請寫一個函式用來計算 Mean Square Error\n",
    "$ MSE = \\frac{1}{n}\\sum_{i=1}^{n}{(Y_i - \\hat{Y}_i)^2} $\n",
    "\n",
    "### Hint: [如何取平方](https://googoodesign.gitbooks.io/-ezpython/unit-1.html)"
   ]
  },
  {
   "cell_type": "code",
   "execution_count": 33,
   "metadata": {},
   "outputs": [],
   "source": [
    "def mean_absolute_error(y, yp):\n",
    "    \"\"\"\n",
    "    計算 MAE\n",
    "    Args:\n",
    "        - y: 實際值\n",
    "        - yp: 預測值\n",
    "    Return:\n",
    "        - mae: MAE\n",
    "    \"\"\"\n",
    "    mae = MAE = sum(abs(y - yp)) / len(y)\n",
    "    return mae\n",
    "\n",
    "def mean_squared_error(y, yp):\n",
    "    \"\"\"\n",
    "    計算 MSE\n",
    "    Args:\n",
    "        - y: 實際值\n",
    "        - yp: 預測值\n",
    "    Return:\n",
    "        - mse: MSE\n",
    "    \"\"\"\n",
    "    mse = sum((y - yp)**2) / len(y)\n",
    "    return mse"
   ]
  },
  {
   "cell_type": "code",
   "execution_count": 34,
   "metadata": {},
   "outputs": [
    {
     "name": "stdout",
     "output_type": "stream",
     "text": [
      "The Mean squared error is 223.077\n",
      "The Mean absolute error is 12.269\n"
     ]
    }
   ],
   "source": [
    "MSE = mean_squared_error(y, y_hat)\n",
    "MAE = mean_absolute_error(y, y_hat)\n",
    "\n",
    "print(\"The Mean squared error is %.3f\" % (MSE))\n",
    "print(\"The Mean absolute error is %.3f\" % (MAE))"
   ]
  },
  {
   "cell_type": "code",
   "execution_count": null,
   "metadata": {},
   "outputs": [],
   "source": [
    " "
   ]
  }
 ],
 "metadata": {
  "anaconda-cloud": {},
  "kernelspec": {
   "display_name": "Python 3",
   "language": "python",
   "name": "python3"
  },
  "language_info": {
   "codemirror_mode": {
    "name": "ipython",
    "version": 3
   },
   "file_extension": ".py",
   "mimetype": "text/x-python",
   "name": "python",
   "nbconvert_exporter": "python",
   "pygments_lexer": "ipython3",
   "version": "3.7.3"
  }
 },
 "nbformat": 4,
 "nbformat_minor": 1
}
